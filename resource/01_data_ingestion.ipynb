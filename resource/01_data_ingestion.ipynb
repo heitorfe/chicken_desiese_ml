{
 "cells": [
  {
   "cell_type": "code",
   "execution_count": 1,
   "id": "189fd0f2",
   "metadata": {
    "ExecuteTime": {
     "end_time": "2023-11-19T20:10:05.499592Z",
     "start_time": "2023-11-19T20:10:05.481510Z"
    }
   },
   "outputs": [],
   "source": [
    "import os"
   ]
  },
  {
   "cell_type": "code",
   "execution_count": 3,
   "id": "ffb4a64b",
   "metadata": {
    "ExecuteTime": {
     "end_time": "2023-11-19T20:10:47.988356Z",
     "start_time": "2023-11-19T20:10:47.973609Z"
    }
   },
   "outputs": [],
   "source": [
    "os.chdir(\"../\")"
   ]
  },
  {
   "cell_type": "code",
   "execution_count": 7,
   "id": "6da111f4",
   "metadata": {
    "ExecuteTime": {
     "end_time": "2023-11-19T20:13:21.977885Z",
     "start_time": "2023-11-19T20:13:21.972037Z"
    }
   },
   "outputs": [],
   "source": [
    "from dataclasses import dataclass\n",
    "from pathlib import Path\n",
    "\n",
    "@dataclass(frozen=True)\n",
    "class DataIngestionConfig:\n",
    "    root_dir: Path\n",
    "    source_URL: str\n",
    "    local_data_file: Path\n",
    "    unzip_dir: Path\n"
   ]
  },
  {
   "cell_type": "code",
   "execution_count": 36,
   "id": "2be1e4fa",
   "metadata": {
    "ExecuteTime": {
     "end_time": "2023-11-19T20:45:23.076326Z",
     "start_time": "2023-11-19T20:45:23.068326Z"
    }
   },
   "outputs": [],
   "source": [
    "from src.cnnClassifier.constants import *\n",
    "from src.cnnClassifier.utils.common import read_yaml, create_directories"
   ]
  },
  {
   "cell_type": "code",
   "execution_count": 37,
   "id": "a63068c0",
   "metadata": {
    "ExecuteTime": {
     "end_time": "2023-11-19T20:45:23.196235Z",
     "start_time": "2023-11-19T20:45:23.184590Z"
    }
   },
   "outputs": [],
   "source": [
    "class ConfigurationManager:\n",
    "    def __init__(\n",
    "    self,\n",
    "    config_filepath = CONFIG_FILE_PATH,\n",
    "    params_filepath = PARAMS_FILE_PATH):\n",
    "        \n",
    "        self.config = read_yaml(config_filepath)\n",
    "        self.params = read_yaml(params_filepath)\n",
    "        \n",
    "        create_directories([self.config.artifacts_root])\n",
    "        \n",
    "    def get_data_ingestion_config(self) -> DataIngestionConfig:\n",
    "        config = self.config.data_ingestion\n",
    "        \n",
    "        create_directories([config.root_dir])\n",
    "        \n",
    "        data_ingestion_config = DataIngestionConfig(\n",
    "            root_dir = config.root_dir,\n",
    "            source_URL = config.source_URL,\n",
    "            local_data_file = config.local_data_file,\n",
    "            unzip_dir = config.unzip_dir)\n",
    "        \n",
    "        return data_ingestion_config"
   ]
  },
  {
   "cell_type": "code",
   "execution_count": 38,
   "id": "de188552",
   "metadata": {
    "ExecuteTime": {
     "end_time": "2023-11-19T20:45:23.323910Z",
     "start_time": "2023-11-19T20:45:23.310369Z"
    }
   },
   "outputs": [],
   "source": [
    "import os\n",
    "import urllib.request as request\n",
    "import zipfile\n",
    "from src.cnnClassifier import logger\n",
    "from src.cnnClassifier.utils.common import get_size"
   ]
  },
  {
   "cell_type": "code",
   "execution_count": 39,
   "id": "8dc6705a",
   "metadata": {
    "ExecuteTime": {
     "end_time": "2023-11-19T20:45:23.461449Z",
     "start_time": "2023-11-19T20:45:23.448509Z"
    }
   },
   "outputs": [],
   "source": [
    "class DataIngestion:\n",
    "    def __init__(self, config: DataIngestionConfig):\n",
    "        self.config = config\n",
    "        \n",
    "    def download_file(self):\n",
    "        if not os.path.exists(self.config.local_data_file):\n",
    "            filename, headers = request.urlretrieve(\n",
    "                url = self.config.source_URL,\n",
    "                filename = self.config.local_data_file\n",
    "            )\n",
    "            logger.info(f\"{filename} download! with the following info: \\n{headers}\")\n",
    "        else:\n",
    "            logger.info(f\"File already exist of size: {get_size(Path(self.config.local_data_file))}\")\n",
    "            \n",
    "    def extract_zip_file(self):\n",
    "        \"\"\"zip_file_path: str\n",
    "        Extracts the zip file into the data directory\n",
    "        \"\"\"\n",
    "        \n",
    "        unzip_path = self.config.unzip_dir\n",
    "        os.makedirs(unzip_path, exist_ok=True)\n",
    "        with zipfile.ZipFile(self.config.local_data_file, 'r') as zip_ref:\n",
    "            zip_ref.extractall(unzip_path)"
   ]
  },
  {
   "cell_type": "code",
   "execution_count": 40,
   "id": "50008936",
   "metadata": {
    "ExecuteTime": {
     "end_time": "2023-11-19T20:45:23.839481Z",
     "start_time": "2023-11-19T20:45:23.577702Z"
    }
   },
   "outputs": [
    {
     "name": "stdout",
     "output_type": "stream",
     "text": [
      "[2023-11-19 17:45:23,590: INFO: common: yaml file: config\\config.yaml loaded successfully:]\n",
      "[2023-11-19 17:45:23,592: INFO: common: yaml file: params.yaml loaded successfully:]\n",
      "[2023-11-19 17:45:23,593: INFO: common: created directory at: artifacts:]\n",
      "[2023-11-19 17:45:23,595: INFO: common: created directory at: artifacts/data_ingestion:]\n",
      "[2023-11-19 17:45:23,596: INFO: 2899878574: File already exist of size: ~11345 KB:]\n"
     ]
    }
   ],
   "source": [
    "try:\n",
    "    config = ConfigurationManager()\n",
    "    data_ingestion_config = config.get_data_ingestion_config()\n",
    "    data_ingestion = DataIngestion(config = data_ingestion_config)\n",
    "    data_ingestion.download_file()\n",
    "    data_ingestion.extract_zip_file()\n",
    "    \n",
    "except Exception as e:\n",
    "    raise e"
   ]
  },
  {
   "cell_type": "code",
   "execution_count": null,
   "id": "b1ff86f0",
   "metadata": {},
   "outputs": [],
   "source": []
  },
  {
   "cell_type": "code",
   "execution_count": null,
   "id": "acbea547",
   "metadata": {},
   "outputs": [],
   "source": []
  },
  {
   "cell_type": "code",
   "execution_count": null,
   "id": "b9991adf",
   "metadata": {},
   "outputs": [],
   "source": []
  }
 ],
 "metadata": {
  "kernelspec": {
   "display_name": "Python 3 (ipykernel)",
   "language": "python",
   "name": "python3"
  },
  "language_info": {
   "codemirror_mode": {
    "name": "ipython",
    "version": 3
   },
   "file_extension": ".py",
   "mimetype": "text/x-python",
   "name": "python",
   "nbconvert_exporter": "python",
   "pygments_lexer": "ipython3",
   "version": "3.10.9"
  }
 },
 "nbformat": 4,
 "nbformat_minor": 5
}
