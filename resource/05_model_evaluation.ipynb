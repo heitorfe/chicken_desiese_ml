{
 "cells": [
  {
   "cell_type": "code",
   "execution_count": 1,
   "id": "8842e77d",
   "metadata": {
    "ExecuteTime": {
     "end_time": "2023-11-22T13:22:40.910829Z",
     "start_time": "2023-11-22T13:22:40.889802Z"
    }
   },
   "outputs": [],
   "source": [
    "import os"
   ]
  },
  {
   "cell_type": "code",
   "execution_count": 2,
   "id": "260dd912",
   "metadata": {
    "ExecuteTime": {
     "end_time": "2023-11-22T13:22:41.112555Z",
     "start_time": "2023-11-22T13:22:41.105547Z"
    }
   },
   "outputs": [],
   "source": [
    "os.chdir('../')"
   ]
  },
  {
   "cell_type": "code",
   "execution_count": 3,
   "id": "a5c4e3eb",
   "metadata": {
    "ExecuteTime": {
     "end_time": "2023-11-22T13:22:45.479441Z",
     "start_time": "2023-11-22T13:22:41.346702Z"
    }
   },
   "outputs": [],
   "source": [
    "import tensorflow as tf\n"
   ]
  },
  {
   "cell_type": "code",
   "execution_count": 4,
   "id": "7af29f03",
   "metadata": {
    "ExecuteTime": {
     "end_time": "2023-11-22T13:22:45.965175Z",
     "start_time": "2023-11-22T13:22:45.482311Z"
    }
   },
   "outputs": [],
   "source": [
    "model = tf.keras.models.load_model(\"artifacts/training/model.h5\")"
   ]
  },
  {
   "cell_type": "code",
   "execution_count": 5,
   "id": "870eff0c",
   "metadata": {
    "ExecuteTime": {
     "end_time": "2023-11-22T13:22:45.980569Z",
     "start_time": "2023-11-22T13:22:45.967101Z"
    }
   },
   "outputs": [],
   "source": [
    "from dataclasses import dataclass\n",
    "from pathlib import Path\n",
    "\n",
    "@dataclass(frozen=True)\n",
    "class EvaluationConfig:\n",
    "    path_of_model: Path\n",
    "    training_data: Path\n",
    "    all_params: dict\n",
    "    params_batch_size: int\n",
    "    params_image_size: list\n"
   ]
  },
  {
   "cell_type": "code",
   "execution_count": 6,
   "id": "004f2004",
   "metadata": {
    "ExecuteTime": {
     "end_time": "2023-11-22T13:22:46.137429Z",
     "start_time": "2023-11-22T13:22:45.983529Z"
    }
   },
   "outputs": [],
   "source": [
    "from src.cnnClassifier.constants import *\n",
    "from src.cnnClassifier.utils.common import read_yaml, create_directories, save_json"
   ]
  },
  {
   "cell_type": "code",
   "execution_count": 7,
   "id": "c41a9789",
   "metadata": {
    "ExecuteTime": {
     "end_time": "2023-11-22T13:22:46.152807Z",
     "start_time": "2023-11-22T13:22:46.140335Z"
    }
   },
   "outputs": [],
   "source": [
    "class ConfigurationManager:\n",
    "    def __init__(\n",
    "    self,\n",
    "    config_filepath = CONFIG_FILE_PATH,\n",
    "    params_filepath = PARAMS_FILE_PATH):\n",
    "        \n",
    "        self.config = read_yaml(config_filepath)\n",
    "        self.params = read_yaml(params_filepath)\n",
    "        \n",
    "        create_directories([self.config.artifacts_root])\n",
    "        \n",
    "    def get_validation_config(self) -> EvaluationConfig:\n",
    "        \n",
    "        eval_config = EvaluationConfig(\n",
    "            path_of_model = \"artifacts/training/model.h5\",\n",
    "            training_data = \"artifacts/data_ingestion/Chicken-fecal-images\",\n",
    "            all_params = self.params,\n",
    "            params_image_size = self.params.IMAGE_SIZE,\n",
    "            params_batch_size = self.params.BATCH_SIZE\n",
    "        )\n",
    "        return eval_config"
   ]
  },
  {
   "cell_type": "code",
   "execution_count": 8,
   "id": "5867e1e1",
   "metadata": {
    "ExecuteTime": {
     "end_time": "2023-11-22T13:22:46.168850Z",
     "start_time": "2023-11-22T13:22:46.154681Z"
    }
   },
   "outputs": [],
   "source": [
    "from urllib.parse import urlparse"
   ]
  },
  {
   "cell_type": "code",
   "execution_count": 9,
   "id": "781abb7e",
   "metadata": {
    "ExecuteTime": {
     "end_time": "2023-11-22T13:22:46.184454Z",
     "start_time": "2023-11-22T13:22:46.170684Z"
    }
   },
   "outputs": [],
   "source": [
    "class Evaluation:\n",
    "    def __init__(self, config: EvaluationConfig):\n",
    "        self.config = config\n",
    "        \n",
    "    def _valid_generator(self):\n",
    "        datagenerator_kwargs = dict(\n",
    "            rescale = 1./255,\n",
    "            validation_split = 0.30\n",
    "        )\n",
    "        \n",
    "        dataflow_kwargs = dict(\n",
    "            target_size = self.config.params_image_size[:-1],\n",
    "            batch_size = self.config.params_batch_size,\n",
    "            interpolation = \"bilinear\"\n",
    "        )\n",
    "        \n",
    "        valid_datagenerator = tf.keras.preprocessing.image.ImageDataGenerator(\n",
    "             **datagenerator_kwargs\n",
    "         )\n",
    "            \n",
    "        self.valid_generator = valid_datagenerator.flow_from_directory(\n",
    "            directory=self.config.training_data,\n",
    "            subset=\"validation\",\n",
    "            shuffle=False,\n",
    "            **dataflow_kwargs)\n",
    "        \n",
    "    @staticmethod\n",
    "    def load_model(path: Path) -> tf.keras.Model:\n",
    "        return tf.keras.models.load_model(path)\n",
    "    \n",
    "    def evaluation(self):\n",
    "        self.model = self.load_model(self.config.path_of_model)\n",
    "        self._valid_generator()\n",
    "        self.score = model.evaluate(self.valid_generator)\n",
    "    \n",
    "    def save_score(self):\n",
    "        scores = {\"loss\" : self.score[0], \"accuracy\" : self.score[1]}\n",
    "        save_json(path = Path(\"scores.json\"), data = scores)"
   ]
  },
  {
   "cell_type": "code",
   "execution_count": 10,
   "id": "c80e299e",
   "metadata": {
    "ExecuteTime": {
     "end_time": "2023-11-22T13:22:58.900971Z",
     "start_time": "2023-11-22T13:22:46.186458Z"
    }
   },
   "outputs": [
    {
     "name": "stdout",
     "output_type": "stream",
     "text": [
      "[2023-11-22 10:22:46,191: INFO: common: yaml file: config\\config.yaml loaded successfully:]\n",
      "[2023-11-22 10:22:46,196: INFO: common: yaml file: params.yaml loaded successfully:]\n",
      "[2023-11-22 10:22:46,197: INFO: common: created directory at: artifacts:]\n",
      "Found 116 images belonging to 2 classes.\n",
      "8/8 [==============================] - 12s 1s/step - loss: 0.3803 - accuracy: 0.9052\n",
      "[2023-11-22 10:22:58,888: INFO: common: json file saved at scores.json:]\n"
     ]
    }
   ],
   "source": [
    "try:\n",
    "    config = ConfigurationManager()\n",
    "    val_config = config.get_validation_config()\n",
    "    evaluation = Evaluation(config=val_config)\n",
    "    evaluation.evaluation()\n",
    "    evaluation.save_score()\n",
    "    \n",
    "except Exception as e:\n",
    "    raise e"
   ]
  },
  {
   "cell_type": "code",
   "execution_count": null,
   "id": "907070de",
   "metadata": {},
   "outputs": [],
   "source": []
  }
 ],
 "metadata": {
  "kernelspec": {
   "display_name": "Python 3 (ipykernel)",
   "language": "python",
   "name": "python3"
  },
  "language_info": {
   "codemirror_mode": {
    "name": "ipython",
    "version": 3
   },
   "file_extension": ".py",
   "mimetype": "text/x-python",
   "name": "python",
   "nbconvert_exporter": "python",
   "pygments_lexer": "ipython3",
   "version": "3.10.9"
  }
 },
 "nbformat": 4,
 "nbformat_minor": 5
}
